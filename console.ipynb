{
 "cells": [
  {
   "cell_type": "code",
   "execution_count": null,
   "metadata": {},
   "outputs": [],
   "source": [
    "%matplotlib inline\n",
    "%load_ext autoreload\n",
    "%autoreload 2\n",
    "import matplotlib.pyplot as plt\n",
    "import numpy as np "
   ]
  },
  {
   "cell_type": "code",
   "execution_count": null,
   "metadata": {},
   "outputs": [],
   "source": [
    "from main import main\n",
    "main()"
   ]
  },
  {
   "cell_type": "code",
   "execution_count": null,
   "metadata": {},
   "outputs": [],
   "source": []
  },
  {
   "cell_type": "markdown",
   "metadata": {},
   "source": [
    "# Uncurated codes"
   ]
  },
  {
   "cell_type": "code",
   "execution_count": null,
   "metadata": {},
   "outputs": [],
   "source": [
    "kitti360_root = \"dataset/KITTI-360\"\n",
    "sequence = \"2013_05_28_drive_0000_sync\"\n",
    "sp = sequence_processor = SequenceProcessor(kitti360_root, sequence)\n",
    "\n",
    "\n"
   ]
  },
  {
   "cell_type": "code",
   "execution_count": null,
   "metadata": {},
   "outputs": [],
   "source": [
    "sp = sequence_processor\n",
    "sp.get_persp_img(traj_i=5000, if_crop=True, show=True)\n",
    "sp.original_persp_img_size, sp.image.shape"
   ]
  },
  {
   "cell_type": "code",
   "execution_count": null,
   "metadata": {},
   "outputs": [],
   "source": [
    "from xgutils.vis import visutil\n",
    "import numpy as np\n",
    "from labels import semantics2rgbimg, kitti360_sequences\n",
    "import matplotlib.pyplot as plt\n",
    "from xgutils.vis import visutil\n",
    "from xgutils import sysutil\n",
    "import scipy\n",
    "import os\n",
    "from scipy import ndimage\n",
    "def add_traj(img, xx, xt, resolution=(256,256)):\n",
    "    fig, ax = visutil.newPlot(resolution=resolution)\n",
    "    ax.imshow(img, extent=[-1,1,-1,1])\n",
    "    ax.scatter(xx[:,0], xx[:,1], zorder=100, color='r', s=3.5)\n",
    "    cmap = plt.get_cmap('viridis')\n",
    "    for i in range(len(xx)):\n",
    "        ax.plot(   [xx[i,0],  xt[i,0]],\n",
    "                    [xx[i,1],  xt[i,1]], color=cmap(i/len(xx)))\n",
    "    ax.set_xlim(-1,1)\n",
    "    ax.set_ylim(-1,1)\n",
    "    ax.axis('off')\n",
    "    img = visutil.fig2img(fig)\n",
    "    return img\n",
    "def render_imgs(dset_dir=\"output\",\n",
    "                    sequence=\"2013_05_28_drive_0000_sync\", \n",
    "                    trajlist = range(400), version=0):\n",
    "    imgs = []\n",
    "    for traj_i in sysutil.progbar(trajlist):\n",
    "        fpath = \"%s/labels/%s_%08d/boxes.npz\"%(dset_dir, sequence, traj_i)\n",
    "        save_path = \"%s/datavis/imgs/%s/%08d.png\"%(dset_dir, sequence, traj_i)\n",
    "        if os.path.exists(save_path):\n",
    "            continue\n",
    "        img = plt.imread(\"%s/images/%s_%08d/0000.png\"%(dset_dir, sequence, traj_i))\n",
    "        img = img[:,:,:-1]\n",
    "\n",
    "        loaded = np.load(fpath)\n",
    "        img2 = loaded[\"layout\"][0]\n",
    "        img2 = semantics2rgbimg(img2, vis_color=True)\n",
    "        ccds, tcds = loaded[\"camera_coords\"], loaded[\"target_coords\"]\n",
    "        if version == 0:\n",
    "            ccds, tcds = ccds[:,[0,2,1]], tcds[:,[0,2,1]]\n",
    "        img2 = add_traj(img2, ccds, tcds, resolution = (img2.shape[0], img2.shape[1]))\n",
    "\n",
    "        img2 = img2[:,:,:-1]\n",
    "        img3 = loaded[\"layout_noveg\"][0]\n",
    "        img3 = semantics2rgbimg(img3, vis_color=True)/256.\n",
    "\n",
    "        imgGrid = visutil.imageGrid([img, img2, img3], shape=(1, -1))\n",
    "        imgs.append(imgGrid)\n",
    "    return imgs\n",
    "sequence = \"2013_05_28_drive_0000_sync\"\n",
    "ftpt=\"output/kitti360_v1/filters/%s.npz\"\n",
    "lbpt=\"output/kitti360_v%d/labels/2013_05_28_drive_0000_sync_%08d/boxes.npz\"\n",
    "impt=\"output/kitti360_v%d/images/2013_05_28_drive_0000_sync_%08d/0000.png\"\n",
    "flist = range(100)\n",
    "imgs0 = render_imgs(dset_dir=\"output/kitti360_v0/\", sequence=sequence, trajlist=flist)\n",
    "imgs1 = render_imgs(dset_dir=\"output/kitti360_v1/\", sequence=\"2013_05_28_drive_0000_sync\", trajlist=flist, version=1)\n",
    "std_filter = np.load(ftpt%sequence)[\"std_filter\"]\n",
    "imgs1f= render_imgs(dset_dir=\"output/kitti360_v1/\", sequence=\"2013_05_28_drive_0000_sync\", trajlist=np.where(std_filter)[0][:len(flist)], version=1)\n",
    "\n",
    "imgs = [ visutil.imageGrid([imgs0[i], imgs1[i], imgs1f[i]], shape=(-1,1)) for i in range(len(imgs0))]\n",
    "# fid = 0\n",
    "# imgs = []\n",
    "# for fid in range(0, 1000, 1):\n",
    "#     loaded0 = np.load(lbpt%(0, fid))\n",
    "#     loaded1 = np.load(lbpt%(0, fid))\n",
    "#     im0 = plt.imread(impt%(0, fid))\n",
    "#     im1 = plt.imread(impt%(1, fid))\n",
    "#     img = visutil.imageGrid([im0, im1], shape=(1,-1))\n",
    "#     imgs.append(img)\n",
    "visutil.imgarray2video( \"temp/test.mp4\", imgs, frameRate=60)"
   ]
  },
  {
   "cell_type": "code",
   "execution_count": null,
   "metadata": {},
   "outputs": [],
   "source": [
    "#plt.scatter(xx[:,0], xx[:,2], zorder=100, color='r', s=0.5)\n",
    "xx,xt=sequence_processor.get_next_cameras(traj_i=130,max_dist=125, cam_num=35)\n",
    "xt = xx + xt\n",
    "pm = sequence_processor.poses_matrices[130:150,:3,3]\n",
    "#plt.scatter(pm[:,0], pm[:,1], zorder=100, color='r', s=0.5)\n",
    "xx,xt=sequence_processor.export_next_cams(traj_i=120,)\n",
    "plt.scatter(xx[:,0], xx[:,2], zorder=100, color='r', s=0.5)\n"
   ]
  },
  {
   "cell_type": "markdown",
   "metadata": {},
   "source": []
  },
  {
   "cell_type": "code",
   "execution_count": null,
   "metadata": {},
   "outputs": [],
   "source": [
    "np.linalg.norm(xx[1:] - xx[:-1], axis=1).sum()"
   ]
  },
  {
   "cell_type": "code",
   "execution_count": null,
   "metadata": {},
   "outputs": [],
   "source": []
  },
  {
   "cell_type": "code",
   "execution_count": null,
   "metadata": {},
   "outputs": [],
   "source": [
    "from kitti360scripts.helpers.project import CameraPerspective\n",
    "from kitti360_processor import normalize_intrinsics, denormalize_intrinsics\n",
    "np.set_printoptions(precision=3, suppress=True)\n",
    "for ixx in range(1):\n",
    "    #traj_i = 17\n",
    "    traj_i = 17 + ixx*100\n",
    "    ocamp = CameraPerspective( kitti360_root, sequence, cam_id=0)\n",
    "    camp = CameraPerspective( kitti360_root, sequence, cam_id=0)\n",
    "    newK = camp.K.copy()\n",
    "    print(camp.width, camp.height)\n",
    "    #for ixx in range(15):\n",
    "    #    newdx, newdy = 1408-ixx*97, 376\n",
    "    newdx, newdy = 376, 376\n",
    "    newdim = 256\n",
    "    newdx, newdy = newdim, newdim\n",
    "    newK = normalize_intrinsics(ocamp.K, (camp.width, camp.height))\n",
    "\n",
    "    newK = np.array(    [   [0.39243911, 0.        , 0.48441012, 0.        ],\n",
    "                            [0.        , 0.39243911, 0.6350254 , 0.        ],\n",
    "                            [0.        , 0.        , 1.        , 0.        ],\n",
    "                            [0.        , 0.        , 0.        , 1.        ],]\n",
    "\n",
    "    newK = denormalize_intrinsics(newK, (newdx, newdy))\n",
    "    # newK[:2,2] = ocamp.K[:2,2] / np.array([ocamp.width / newdx, ocamp.height / newdy])\n",
    "    # newK[0,0] = ocamp.K[0,0] / ocamp.height * newdy\n",
    "    # newK[1,1] = ocamp.K[1,1] / ocamp.height * newdy\n",
    "    # print(\"K\", ocamp.K)\n",
    "    # print(\"newK\",newK)\n",
    "\n",
    "    #newK[0,2] = \n",
    "    #newK = camp.K*np.array([[1/camp.width, 1/camp.height, 1]]).T * 256\n",
    "    # newK = camp.K\n",
    "    # newK = normalize_intrinsics(newK, (camp.width, camp.height))\n",
    "    # newK = denormalize_intrinsics(newK, (256, 256))\n",
    "    camp.K = newK\n",
    "    camp.width, camp.height = newdx, newdy\n",
    "    sequence_processor.get_persp_img(traj_i=traj_i, if_crop=False, show=False);\n",
    "    sequence_processor.perspect_plot_matplotlib(traj_i=traj_i, max_dist=50., camera = ocamp)\n",
    "    #sequence_processor.get_persp_img(traj_i=traj_i, if_crop=True, crop_shape=(newdx, newdy), resize_to=(newdy, newdx, ), show=False);\n",
    "    sequence_processor.get_persp_img(traj_i=traj_i, if_crop=True, resize_to=(newdx, newdy), show=False);\n",
    "    #sequence_processor.perspect_plot_matplotlib(traj_i=traj_i)\n",
    "    sequence_processor.perspect_plot_matplotlib(traj_i=traj_i, max_dist=50., camera = camp)"
   ]
  },
  {
   "cell_type": "code",
   "execution_count": null,
   "metadata": {},
   "outputs": [],
   "source": []
  },
  {
   "cell_type": "code",
   "execution_count": null,
   "metadata": {},
   "outputs": [],
   "source": []
  },
  {
   "cell_type": "code",
   "execution_count": null,
   "metadata": {},
   "outputs": [],
   "source": []
  }
 ],
 "metadata": {
  "kernelspec": {
   "display_name": "Python 3 (ipykernel)",
   "language": "python",
   "name": "python3"
  },
  "language_info": {
   "codemirror_mode": {
    "name": "ipython",
    "version": 3
   },
   "file_extension": ".py",
   "mimetype": "text/x-python",
   "name": "python",
   "nbconvert_exporter": "python",
   "pygments_lexer": "ipython3",
   "version": "3.10.9"
  },
  "orig_nbformat": 4,
  "vscode": {
   "interpreter": {
    "hash": "bc0c9722027001cbec34b15b7224a174d015a1fd4437432f3407a71efb7356ac"
   }
  }
 },
 "nbformat": 4,
 "nbformat_minor": 2
}
